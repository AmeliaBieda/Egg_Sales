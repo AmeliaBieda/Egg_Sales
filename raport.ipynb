{
 "cells": [
  {
   "metadata": {},
   "cell_type": "markdown",
   "source": "# Raport",
   "id": "957d4bab3dad5133"
  },
  {
   "metadata": {
    "ExecuteTime": {
     "end_time": "2025-01-24T17:02:28.146298Z",
     "start_time": "2025-01-24T17:02:28.138913Z"
    }
   },
   "cell_type": "code",
   "source": "import pandas as pd",
   "id": "9521227760ecc721",
   "outputs": [],
   "execution_count": 17
  },
  {
   "cell_type": "code",
   "id": "initial_id",
   "metadata": {
    "collapsed": true,
    "ExecuteTime": {
     "end_time": "2025-01-24T17:02:28.260216Z",
     "start_time": "2025-01-24T17:02:28.203168Z"
    }
   },
   "source": "data=pd.read_csv(\"train_egg_sales.csv\",delimiter=';')",
   "outputs": [],
   "execution_count": 18
  },
  {
   "metadata": {
    "ExecuteTime": {
     "end_time": "2025-01-24T17:04:53.839146Z",
     "start_time": "2025-01-24T17:04:53.820908Z"
    }
   },
   "cell_type": "code",
   "source": "data.head()",
   "id": "592a90d2ff128434",
   "outputs": [
    {
     "data": {
      "text/plain": [
       "         Date  Egg Sales\n",
       "0  1993-01-01         91\n",
       "1  1993-01-02        124\n",
       "2  1993-01-03        112\n",
       "3  1993-01-04        115\n",
       "4  1993-01-05        107"
      ],
      "text/html": [
       "<div>\n",
       "<style scoped>\n",
       "    .dataframe tbody tr th:only-of-type {\n",
       "        vertical-align: middle;\n",
       "    }\n",
       "\n",
       "    .dataframe tbody tr th {\n",
       "        vertical-align: top;\n",
       "    }\n",
       "\n",
       "    .dataframe thead th {\n",
       "        text-align: right;\n",
       "    }\n",
       "</style>\n",
       "<table border=\"1\" class=\"dataframe\">\n",
       "  <thead>\n",
       "    <tr style=\"text-align: right;\">\n",
       "      <th></th>\n",
       "      <th>Date</th>\n",
       "      <th>Egg Sales</th>\n",
       "    </tr>\n",
       "  </thead>\n",
       "  <tbody>\n",
       "    <tr>\n",
       "      <th>0</th>\n",
       "      <td>1993-01-01</td>\n",
       "      <td>91</td>\n",
       "    </tr>\n",
       "    <tr>\n",
       "      <th>1</th>\n",
       "      <td>1993-01-02</td>\n",
       "      <td>124</td>\n",
       "    </tr>\n",
       "    <tr>\n",
       "      <th>2</th>\n",
       "      <td>1993-01-03</td>\n",
       "      <td>112</td>\n",
       "    </tr>\n",
       "    <tr>\n",
       "      <th>3</th>\n",
       "      <td>1993-01-04</td>\n",
       "      <td>115</td>\n",
       "    </tr>\n",
       "    <tr>\n",
       "      <th>4</th>\n",
       "      <td>1993-01-05</td>\n",
       "      <td>107</td>\n",
       "    </tr>\n",
       "  </tbody>\n",
       "</table>\n",
       "</div>"
      ]
     },
     "execution_count": 21,
     "metadata": {},
     "output_type": "execute_result"
    }
   ],
   "execution_count": 21
  },
  {
   "metadata": {
    "ExecuteTime": {
     "end_time": "2025-01-24T17:02:28.662319Z",
     "start_time": "2025-01-24T17:02:28.613775Z"
    }
   },
   "cell_type": "code",
   "source": "print(data.isnull().sum()) #N/A",
   "id": "a36ad7a21db3e74c",
   "outputs": [
    {
     "name": "stdout",
     "output_type": "stream",
     "text": [
      "Date         0\n",
      "Egg Sales    0\n",
      "dtype: int64\n"
     ]
    }
   ],
   "execution_count": 20
  },
  {
   "metadata": {
    "ExecuteTime": {
     "end_time": "2025-01-24T17:02:28.894978Z",
     "start_time": "2025-01-24T17:02:28.887916Z"
    }
   },
   "cell_type": "code",
   "source": "",
   "id": "4444cfbc692a3ae6",
   "outputs": [],
   "execution_count": null
  }
 ],
 "metadata": {
  "kernelspec": {
   "display_name": "Python 3",
   "language": "python",
   "name": "python3"
  },
  "language_info": {
   "codemirror_mode": {
    "name": "ipython",
    "version": 2
   },
   "file_extension": ".py",
   "mimetype": "text/x-python",
   "name": "python",
   "nbconvert_exporter": "python",
   "pygments_lexer": "ipython2",
   "version": "2.7.6"
  }
 },
 "nbformat": 4,
 "nbformat_minor": 5
}
